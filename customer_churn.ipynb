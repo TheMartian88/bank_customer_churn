{
 "cells": [
  {
   "cell_type": "markdown",
   "id": "e86d083e",
   "metadata": {
    "tags": []
   },
   "source": [
    "# Отток клиентов <a id=\"intro\"></a>"
   ]
  },
  {
   "cell_type": "markdown",
   "id": "e6c6b9d9",
   "metadata": {
    "toc": true
   },
   "source": [
    "<h1>Содержание<span class=\"tocSkip\"></span></h1>\n",
    "<div class=\"toc\"><ul class=\"toc-item\"><li><span><a href=\"#Описание\" data-toc-modified-id=\"Описание-1\"><span class=\"toc-item-num\">1&nbsp;&nbsp;</span>Описание</a></span></li><li><span><a href=\"#Импорт-необходимых-библиотек\" data-toc-modified-id=\"Импорт-необходимых-библиотек-2\"><span class=\"toc-item-num\">2&nbsp;&nbsp;</span>Импорт необходимых библиотек</a></span></li><li><span><a href=\"#Подготовка-данных\" data-toc-modified-id=\"Подготовка-данных-3\"><span class=\"toc-item-num\">3&nbsp;&nbsp;</span>Подготовка данных</a></span></li><li><span><a href=\"#Исследование-задачи\" data-toc-modified-id=\"Исследование-задачи-4\"><span class=\"toc-item-num\">4&nbsp;&nbsp;</span>Исследование задачи</a></span></li><li><span><a href=\"#Борьба-с-дисбалансом\" data-toc-modified-id=\"Борьба-с-дисбалансом-5\"><span class=\"toc-item-num\">5&nbsp;&nbsp;</span>Борьба с дисбалансом</a></span></li><li><span><a href=\"#Тестирование-модели\" data-toc-modified-id=\"Тестирование-модели-6\"><span class=\"toc-item-num\">6&nbsp;&nbsp;</span>Тестирование модели</a></span></li><li><span><a href=\"#Общие-выводы\" data-toc-modified-id=\"Общие-выводы-7\"><span class=\"toc-item-num\">7&nbsp;&nbsp;</span>Общие выводы</a></span></li></ul></div>"
   ]
  },
  {
   "cell_type": "markdown",
   "id": "bc4d1128-46c2-49a5-9c28-54c112e72022",
   "metadata": {},
   "source": [
    "## Описание"
   ]
  },
  {
   "cell_type": "markdown",
   "id": "99d3d926-b5f8-4156-adc2-af13d2cd98d6",
   "metadata": {},
   "source": [
    "Из «Бета-Банка» стали уходить клиенты. Каждый месяц. Немного, но заметно. Банковские маркетологи посчитали: сохранять текущих клиентов дешевле, чем привлекать новых. Требуется спрогнозировать, уйдёт клиент из банка в ближайшее время или нет. На входе имеются исторические данные о поведении клиентов и расторжении договоров с банком. Необходимо построить модель с предельно большим значением F1-меры, не менее 0.59 на тестовой выборке, сравнить значение AUC-ROC с F1-мерой.\n",
    "\n",
    "Источник данных: https://www.kaggle.com/barelydedicated/bank-customer-churn-modeling"
   ]
  },
  {
   "cell_type": "markdown",
   "id": "882be21d-6192-4926-857f-89e8d63e0c33",
   "metadata": {
    "tags": []
   },
   "source": [
    "## Импорт необходимых библиотек"
   ]
  },
  {
   "cell_type": "code",
   "execution_count": 1,
   "id": "945ee1a9-f88e-45f9-a08c-2727e761947b",
   "metadata": {},
   "outputs": [],
   "source": [
    "import pandas as pd\n",
    "import numpy as np\n",
    "import matplotlib.pyplot as plt\n",
    "import seaborn as sns\n",
    "from sklearn.tree import DecisionTreeClassifier \n",
    "from sklearn.ensemble import RandomForestClassifier\n",
    "from sklearn.linear_model import LogisticRegression\n",
    "from sklearn.metrics import accuracy_score\n",
    "from sklearn.metrics import confusion_matrix\n",
    "from sklearn.metrics import recall_score\n",
    "from sklearn.metrics import roc_auc_score\n",
    "from sklearn.metrics import precision_score\n",
    "from sklearn.metrics import f1_score\n",
    "from sklearn.metrics import classification_report\n",
    "from sklearn.utils import shuffle\n",
    "from sklearn.metrics import roc_curve\n",
    "from sklearn.metrics import precision_recall_curve\n",
    "from sklearn.model_selection import train_test_split\n",
    "from sklearn.preprocessing import StandardScaler\n",
    "import warnings\n",
    "warnings.filterwarnings(\"ignore\")\n",
    "pd.options.mode.chained_assignment = None\n",
    "pd.set_option(\"display.max_columns\", None)"
   ]
  },
  {
   "cell_type": "markdown",
   "id": "de7e624d-aeb9-44c6-ad5a-99c2775a9bd6",
   "metadata": {},
   "source": [
    "## Подготовка данных"
   ]
  },
  {
   "cell_type": "markdown",
   "id": "f1aa3108-893a-40c3-bd9a-fbcd9c15aa52",
   "metadata": {},
   "source": [
    "Прочитаем информацию из файла."
   ]
  },
  {
   "cell_type": "code",
   "execution_count": 2,
   "id": "0a898cd1-a619-405d-8396-83613115b77e",
   "metadata": {
    "tags": []
   },
   "outputs": [
    {
     "data": {
      "text/html": [
       "<div>\n",
       "<style scoped>\n",
       "    .dataframe tbody tr th:only-of-type {\n",
       "        vertical-align: middle;\n",
       "    }\n",
       "\n",
       "    .dataframe tbody tr th {\n",
       "        vertical-align: top;\n",
       "    }\n",
       "\n",
       "    .dataframe thead th {\n",
       "        text-align: right;\n",
       "    }\n",
       "</style>\n",
       "<table border=\"1\" class=\"dataframe\">\n",
       "  <thead>\n",
       "    <tr style=\"text-align: right;\">\n",
       "      <th></th>\n",
       "      <th>RowNumber</th>\n",
       "      <th>CustomerId</th>\n",
       "      <th>Surname</th>\n",
       "      <th>CreditScore</th>\n",
       "      <th>Geography</th>\n",
       "      <th>Gender</th>\n",
       "      <th>Age</th>\n",
       "      <th>Tenure</th>\n",
       "      <th>Balance</th>\n",
       "      <th>NumOfProducts</th>\n",
       "      <th>HasCrCard</th>\n",
       "      <th>IsActiveMember</th>\n",
       "      <th>EstimatedSalary</th>\n",
       "      <th>Exited</th>\n",
       "    </tr>\n",
       "  </thead>\n",
       "  <tbody>\n",
       "    <tr>\n",
       "      <th>0</th>\n",
       "      <td>1</td>\n",
       "      <td>15634602</td>\n",
       "      <td>Hargrave</td>\n",
       "      <td>619</td>\n",
       "      <td>France</td>\n",
       "      <td>Female</td>\n",
       "      <td>42</td>\n",
       "      <td>2.0</td>\n",
       "      <td>0.00</td>\n",
       "      <td>1</td>\n",
       "      <td>1</td>\n",
       "      <td>1</td>\n",
       "      <td>101348.88</td>\n",
       "      <td>1</td>\n",
       "    </tr>\n",
       "    <tr>\n",
       "      <th>1</th>\n",
       "      <td>2</td>\n",
       "      <td>15647311</td>\n",
       "      <td>Hill</td>\n",
       "      <td>608</td>\n",
       "      <td>Spain</td>\n",
       "      <td>Female</td>\n",
       "      <td>41</td>\n",
       "      <td>1.0</td>\n",
       "      <td>83807.86</td>\n",
       "      <td>1</td>\n",
       "      <td>0</td>\n",
       "      <td>1</td>\n",
       "      <td>112542.58</td>\n",
       "      <td>0</td>\n",
       "    </tr>\n",
       "    <tr>\n",
       "      <th>2</th>\n",
       "      <td>3</td>\n",
       "      <td>15619304</td>\n",
       "      <td>Onio</td>\n",
       "      <td>502</td>\n",
       "      <td>France</td>\n",
       "      <td>Female</td>\n",
       "      <td>42</td>\n",
       "      <td>8.0</td>\n",
       "      <td>159660.80</td>\n",
       "      <td>3</td>\n",
       "      <td>1</td>\n",
       "      <td>0</td>\n",
       "      <td>113931.57</td>\n",
       "      <td>1</td>\n",
       "    </tr>\n",
       "    <tr>\n",
       "      <th>3</th>\n",
       "      <td>4</td>\n",
       "      <td>15701354</td>\n",
       "      <td>Boni</td>\n",
       "      <td>699</td>\n",
       "      <td>France</td>\n",
       "      <td>Female</td>\n",
       "      <td>39</td>\n",
       "      <td>1.0</td>\n",
       "      <td>0.00</td>\n",
       "      <td>2</td>\n",
       "      <td>0</td>\n",
       "      <td>0</td>\n",
       "      <td>93826.63</td>\n",
       "      <td>0</td>\n",
       "    </tr>\n",
       "    <tr>\n",
       "      <th>4</th>\n",
       "      <td>5</td>\n",
       "      <td>15737888</td>\n",
       "      <td>Mitchell</td>\n",
       "      <td>850</td>\n",
       "      <td>Spain</td>\n",
       "      <td>Female</td>\n",
       "      <td>43</td>\n",
       "      <td>2.0</td>\n",
       "      <td>125510.82</td>\n",
       "      <td>1</td>\n",
       "      <td>1</td>\n",
       "      <td>1</td>\n",
       "      <td>79084.10</td>\n",
       "      <td>0</td>\n",
       "    </tr>\n",
       "  </tbody>\n",
       "</table>\n",
       "</div>"
      ],
      "text/plain": [
       "   RowNumber  CustomerId   Surname  CreditScore Geography  Gender  Age  \\\n",
       "0          1    15634602  Hargrave          619    France  Female   42   \n",
       "1          2    15647311      Hill          608     Spain  Female   41   \n",
       "2          3    15619304      Onio          502    France  Female   42   \n",
       "3          4    15701354      Boni          699    France  Female   39   \n",
       "4          5    15737888  Mitchell          850     Spain  Female   43   \n",
       "\n",
       "   Tenure    Balance  NumOfProducts  HasCrCard  IsActiveMember  \\\n",
       "0     2.0       0.00              1          1               1   \n",
       "1     1.0   83807.86              1          0               1   \n",
       "2     8.0  159660.80              3          1               0   \n",
       "3     1.0       0.00              2          0               0   \n",
       "4     2.0  125510.82              1          1               1   \n",
       "\n",
       "   EstimatedSalary  Exited  \n",
       "0        101348.88       1  \n",
       "1        112542.58       0  \n",
       "2        113931.57       1  \n",
       "3         93826.63       0  \n",
       "4         79084.10       0  "
      ]
     },
     "execution_count": 2,
     "metadata": {},
     "output_type": "execute_result"
    }
   ],
   "source": [
    "data = pd.read_csv(\"Churn.csv\")\n",
    "data.head()"
   ]
  },
  {
   "cell_type": "markdown",
   "id": "25ac20d8-8021-4e42-ae2e-febed923610d",
   "metadata": {},
   "source": [
    "Приведем данные к порядку."
   ]
  },
  {
   "cell_type": "code",
   "execution_count": 3,
   "id": "cf5900ef-7c21-4774-ab63-d0ac61929bad",
   "metadata": {},
   "outputs": [
    {
     "data": {
      "text/html": [
       "<div>\n",
       "<style scoped>\n",
       "    .dataframe tbody tr th:only-of-type {\n",
       "        vertical-align: middle;\n",
       "    }\n",
       "\n",
       "    .dataframe tbody tr th {\n",
       "        vertical-align: top;\n",
       "    }\n",
       "\n",
       "    .dataframe thead th {\n",
       "        text-align: right;\n",
       "    }\n",
       "</style>\n",
       "<table border=\"1\" class=\"dataframe\">\n",
       "  <thead>\n",
       "    <tr style=\"text-align: right;\">\n",
       "      <th></th>\n",
       "      <th>credit_score</th>\n",
       "      <th>age</th>\n",
       "      <th>tenure</th>\n",
       "      <th>balance</th>\n",
       "      <th>num_of_products</th>\n",
       "      <th>has_cr_card</th>\n",
       "      <th>is_active_member</th>\n",
       "      <th>estimated_salary</th>\n",
       "      <th>exited</th>\n",
       "      <th>geography_germany</th>\n",
       "      <th>geography_spain</th>\n",
       "      <th>gender_male</th>\n",
       "    </tr>\n",
       "  </thead>\n",
       "  <tbody>\n",
       "    <tr>\n",
       "      <th>0</th>\n",
       "      <td>619</td>\n",
       "      <td>42</td>\n",
       "      <td>2.0</td>\n",
       "      <td>0.00</td>\n",
       "      <td>1</td>\n",
       "      <td>1</td>\n",
       "      <td>1</td>\n",
       "      <td>101348.88</td>\n",
       "      <td>1</td>\n",
       "      <td>0</td>\n",
       "      <td>0</td>\n",
       "      <td>0</td>\n",
       "    </tr>\n",
       "    <tr>\n",
       "      <th>1</th>\n",
       "      <td>608</td>\n",
       "      <td>41</td>\n",
       "      <td>1.0</td>\n",
       "      <td>83807.86</td>\n",
       "      <td>1</td>\n",
       "      <td>0</td>\n",
       "      <td>1</td>\n",
       "      <td>112542.58</td>\n",
       "      <td>0</td>\n",
       "      <td>0</td>\n",
       "      <td>1</td>\n",
       "      <td>0</td>\n",
       "    </tr>\n",
       "    <tr>\n",
       "      <th>2</th>\n",
       "      <td>502</td>\n",
       "      <td>42</td>\n",
       "      <td>8.0</td>\n",
       "      <td>159660.80</td>\n",
       "      <td>3</td>\n",
       "      <td>1</td>\n",
       "      <td>0</td>\n",
       "      <td>113931.57</td>\n",
       "      <td>1</td>\n",
       "      <td>0</td>\n",
       "      <td>0</td>\n",
       "      <td>0</td>\n",
       "    </tr>\n",
       "    <tr>\n",
       "      <th>3</th>\n",
       "      <td>699</td>\n",
       "      <td>39</td>\n",
       "      <td>1.0</td>\n",
       "      <td>0.00</td>\n",
       "      <td>2</td>\n",
       "      <td>0</td>\n",
       "      <td>0</td>\n",
       "      <td>93826.63</td>\n",
       "      <td>0</td>\n",
       "      <td>0</td>\n",
       "      <td>0</td>\n",
       "      <td>0</td>\n",
       "    </tr>\n",
       "    <tr>\n",
       "      <th>4</th>\n",
       "      <td>850</td>\n",
       "      <td>43</td>\n",
       "      <td>2.0</td>\n",
       "      <td>125510.82</td>\n",
       "      <td>1</td>\n",
       "      <td>1</td>\n",
       "      <td>1</td>\n",
       "      <td>79084.10</td>\n",
       "      <td>0</td>\n",
       "      <td>0</td>\n",
       "      <td>1</td>\n",
       "      <td>0</td>\n",
       "    </tr>\n",
       "  </tbody>\n",
       "</table>\n",
       "</div>"
      ],
      "text/plain": [
       "   credit_score  age  tenure    balance  num_of_products  has_cr_card  \\\n",
       "0           619   42     2.0       0.00                1            1   \n",
       "1           608   41     1.0   83807.86                1            0   \n",
       "2           502   42     8.0  159660.80                3            1   \n",
       "3           699   39     1.0       0.00                2            0   \n",
       "4           850   43     2.0  125510.82                1            1   \n",
       "\n",
       "   is_active_member  estimated_salary  exited  geography_germany  \\\n",
       "0                 1         101348.88       1                  0   \n",
       "1                 1         112542.58       0                  0   \n",
       "2                 0         113931.57       1                  0   \n",
       "3                 0          93826.63       0                  0   \n",
       "4                 1          79084.10       0                  0   \n",
       "\n",
       "   geography_spain  gender_male  \n",
       "0                0            0  \n",
       "1                1            0  \n",
       "2                0            0  \n",
       "3                0            0  \n",
       "4                1            0  "
      ]
     },
     "execution_count": 3,
     "metadata": {},
     "output_type": "execute_result"
    }
   ],
   "source": [
    "data = data.drop([\"RowNumber\", \"CustomerId\", \"Surname\"], axis=1)  # устраним не несущие пользу для обучения столбцы\n",
    "data.columns = [\"credit_score\", \"geography\", \"gender\", \"age\", \"tenure\", # приведем к единому стилю название признаков для удобства\n",
    "                \"balance\",\"num_of_products\", \"has_cr_card\", \n",
    "                \"is_active_member\", \"estimated_salary\",\"exited\"]\n",
    "data[\"geography\"] = data[\"geography\"].str.lower() # приведем к нижнему регистру объекты признака география и гендер\n",
    "data[\"gender\"] = data[\"gender\"].str.lower()\n",
    "data = pd.get_dummies(data, drop_first=True) # получим демми-признаки\n",
    "data.head()"
   ]
  },
  {
   "cell_type": "markdown",
   "id": "6be9553e-877a-4298-8ae3-5f87481a0e78",
   "metadata": {},
   "source": [
    "Признак \"tenure\" имеет пропуски в объектах. Отсутствие объектов в некоторых случаях обусловлено притоком новых клиентов, у которых еще не стукнул год в данном банке. Устраним их, иначе при обучении модели возникнет ошибка."
   ]
  },
  {
   "cell_type": "code",
   "execution_count": 4,
   "id": "0f34d892-71a6-4e8d-85b4-e5343ccee327",
   "metadata": {},
   "outputs": [],
   "source": [
    "data[\"tenure\"] = data[\"tenure\"].fillna(0) # Новые клиенты"
   ]
  },
  {
   "cell_type": "markdown",
   "id": "04cdc830-f9d6-47ea-a5da-46443b7163f6",
   "metadata": {},
   "source": [
    "Разобъем признаки на целевой признак и все остальные признаки."
   ]
  },
  {
   "cell_type": "code",
   "execution_count": 5,
   "id": "94ef46ed-6b8a-409a-82b4-a642d43dd5fd",
   "metadata": {},
   "outputs": [
    {
     "name": "stdout",
     "output_type": "stream",
     "text": [
      "(10000, 11)\n",
      "(10000,)\n"
     ]
    }
   ],
   "source": [
    "features = data.drop(\"exited\", axis=1)\n",
    "target = data[\"exited\"]\n",
    "print(features.shape)\n",
    "print(target.shape)"
   ]
  },
  {
   "cell_type": "markdown",
   "id": "d31664a2-9a3a-4489-a938-fd4f7b8ab9d9",
   "metadata": {},
   "source": [
    "Разобьем признаки на обучающую, валидационную, тестовую выборки."
   ]
  },
  {
   "cell_type": "code",
   "execution_count": 6,
   "id": "f0eb4674-6d3f-485f-b746-cee5f17b2251",
   "metadata": {},
   "outputs": [
    {
     "name": "stdout",
     "output_type": "stream",
     "text": [
      "(6000, 11)\n",
      "(6000,)\n",
      "(2000, 11)\n",
      "(2000,)\n",
      "(2000, 11)\n",
      "(2000,)\n"
     ]
    }
   ],
   "source": [
    "features_train, features_valid, target_train, target_valid = train_test_split(features, target, test_size=0.20, random_state=12345)\n",
    "features_train, features_test, target_train, target_test = train_test_split(features_train, target_train, test_size=0.25, random_state=12345)\n",
    "print(features_train.shape)\n",
    "print(target_train.shape)\n",
    "print(features_valid.shape)\n",
    "print(target_valid.shape)\n",
    "print(features_test.shape)\n",
    "print(target_test.shape)"
   ]
  },
  {
   "cell_type": "markdown",
   "id": "3886b87b-ba0b-4b61-81af-11fd563bdbb4",
   "metadata": {},
   "source": [
    "Стандартизируем численные объекты."
   ]
  },
  {
   "cell_type": "code",
   "execution_count": 7,
   "id": "a7ff8edf-5311-4bb8-af43-0ea13db19302",
   "metadata": {},
   "outputs": [],
   "source": [
    "numeric = [\"credit_score\", \"age\", \"tenure\", \"balance\", \"num_of_products\", \"estimated_salary\"]\n",
    "scalar = StandardScaler()\n",
    "scalar.fit(features_train[numeric])\n",
    "\n",
    "features_train[numeric] = scalar.transform(features_train[numeric])\n",
    "features_valid[numeric] = scalar.transform(features_valid[numeric])\n",
    "features_test[numeric] = scalar.transform(features_test[numeric])"
   ]
  },
  {
   "cell_type": "markdown",
   "id": "c2dd3240-8b7f-4cce-bc16-4d5a9f7030c4",
   "metadata": {
    "tags": []
   },
   "source": [
    "[В начало](#intro)"
   ]
  },
  {
   "cell_type": "markdown",
   "id": "6fa7ffb9-a2fd-4e88-a63a-9532aecbe17f",
   "metadata": {},
   "source": [
    "## Исследование задачи"
   ]
  },
  {
   "cell_type": "markdown",
   "id": "7531463e-488a-4d1c-8d2d-be182193176f",
   "metadata": {},
   "source": [
    "Рассмотрим баланс классов."
   ]
  },
  {
   "cell_type": "code",
   "execution_count": 8,
   "id": "7f06cfde-09fd-4e93-89a0-c97ba0c9494b",
   "metadata": {},
   "outputs": [
    {
     "data": {
      "image/png": "[encoded data removed]",
      "text/plain": [
       "<Figure size 432x288 with 1 Axes>"
      ]
     },
     "metadata": {
      "needs_background": "light"
     },
     "output_type": "display_data"
    }
   ],
   "source": [
    "data[\"exited\"].value_counts(normalize=1).plot(kind=\"bar\")\n",
    "plt.show()"
   ]
  },
  {
   "cell_type": "markdown",
   "id": "780aa7f3-f801-4745-9009-8183aef2d4ff",
   "metadata": {
    "tags": []
   },
   "source": [
    "Нарушен баланс классов. Доля отрицательных классов составляем почти 80%. Обучим модел без учета и с учетом имеющегося дисбаланса."
   ]
  },
  {
   "cell_type": "markdown",
   "id": "07fd6f1e-b53f-4f5a-b167-829724354f30",
   "metadata": {
    "tags": []
   },
   "source": [
    "Напишем функцию, которая будет высчитывать основные метрики."
   ]
  },
  {
   "cell_type": "code",
   "execution_count": 9,
   "id": "08e0344b-e424-4a93-94ca-de15a0e5f572",
   "metadata": {},
   "outputs": [],
   "source": [
    "def other_metrics(target_valid, predicted_valid):\n",
    "    accuracy = accuracy_score(target_valid, predicted_valid)\n",
    "    recall = recall_score(target_valid, predicted_valid)\n",
    "    precision = precision_score(target_valid, predicted_valid)\n",
    "    return accuracy, recall, precision"
   ]
  },
  {
   "cell_type": "markdown",
   "id": "ec65377e-ff1b-42ef-8213-4c591be6758b",
   "metadata": {},
   "source": [
    "Обучим первую модель с учетом дисбаланса и рассчитаем метрики модели."
   ]
  },
  {
   "cell_type": "code",
   "execution_count": 10,
   "id": "ff332d81-a2bf-4dbb-a509-64c6c6615ed1",
   "metadata": {},
   "outputs": [
    {
     "name": "stdout",
     "output_type": "stream",
     "text": [
      "F1-мера: 0.5669515669515669\n",
      "Accuracy: 0.848\n",
      "Полнота: 0.46604215456674475\n",
      "Точность: 0.7236363636363636\n"
     ]
    }
   ],
   "source": [
    "tree_imbalanced_f1 = 0\n",
    "best_predicted_valid = 0\n",
    "tree_imbalanced = None\n",
    "\n",
    "for depth in range(1, 10):\n",
    "    model = DecisionTreeClassifier(max_depth=depth, random_state=12345)\n",
    "    model.fit(features_train, target_train)\n",
    "    prediction = model.predict(features_valid)\n",
    "    result = f1_score(target_valid, prediction)\n",
    "\n",
    "    if result > tree_imbalanced_f1:\n",
    "        tree_imbalanced_f1 = result\n",
    "        tree_imbalanced = model\n",
    "        best_predicted_valid = prediction\n",
    "        \n",
    "print(\"F1-мера:\", tree_imbalanced_f1)\n",
    "tree_imbalanced_metrics = other_metrics(target_valid, best_predicted_valid)\n",
    "print(\"Accuracy:\", tree_imbalanced_metrics[0])\n",
    "print(\"Полнота:\", tree_imbalanced_metrics[1])\n",
    "print(\"Точность:\", tree_imbalanced_metrics[2])"
   ]
  },
  {
   "cell_type": "code",
   "execution_count": 11,
   "id": "69d1f352-be05-4ee0-a843-9ee749b5d39a",
   "metadata": {},
   "outputs": [
    {
     "data": {
      "image/png": "[encoded data removed]",
      "text/plain": [
       "<Figure size 432x288 with 2 Axes>"
      ]
     },
     "metadata": {
      "needs_background": "light"
     },
     "output_type": "display_data"
    }
   ],
   "source": [
    "sns.heatmap(confusion_matrix(target_valid, \n",
    "                             best_predicted_valid), \n",
    "            annot=True, \n",
    "            fmt='d', \n",
    "            cmap=\"Blues\")\n",
    "plt.ylabel('True label')\n",
    "plt.xlabel('Predicted label')\n",
    "plt.show()"
   ]
  },
  {
   "cell_type": "code",
   "execution_count": 12,
   "id": "e761770e-56c6-4102-8b67-f03facbec23f",
   "metadata": {},
   "outputs": [],
   "source": [
    "probabilities_valid = tree_imbalanced.predict_proba(features_valid)\n",
    "probabilities_one_valid = probabilities_valid[:, 1]"
   ]
  },
  {
   "cell_type": "code",
   "execution_count": 13,
   "id": "f687b701-b47a-4934-8d7c-7ba57fbf286e",
   "metadata": {},
   "outputs": [
    {
     "data": {
      "image/png": "[encoded data removed]",
      "text/plain": [
       "<Figure size 432x288 with 1 Axes>"
      ]
     },
     "metadata": {
      "needs_background": "light"
     },
     "output_type": "display_data"
    }
   ],
   "source": [
    "fpr, tpr, thresholds = roc_curve(target_valid, probabilities_one_valid)\n",
    "plt.plot([0, 1], [0, 1], linestyle='--')\n",
    "plt.xlim([0, 1])\n",
    "plt.ylim([0, 1])\n",
    "plt.plot(fpr, tpr)\n",
    "plt.xlabel(\"False Positive Rate\")\n",
    "plt.ylabel(\"True Positive Rate\")\n",
    "plt.title(\"ROC-кривая\")\n",
    "plt.show()"
   ]
  },
  {
   "cell_type": "code",
   "execution_count": 14,
   "id": "67461cd5-5b73-4ade-a5cf-6924060178e2",
   "metadata": {},
   "outputs": [
    {
     "data": {
      "text/plain": [
       "0.8483788938334392"
      ]
     },
     "execution_count": 14,
     "metadata": {},
     "output_type": "execute_result"
    }
   ],
   "source": [
    "roc_auc_tree_imbalanced = roc_auc_score(target_valid, probabilities_one_valid)\n",
    "roc_auc_tree_imbalanced"
   ]
  },
  {
   "cell_type": "markdown",
   "id": "7841fbc0-03fc-47e7-ad73-e8951ffeb16c",
   "metadata": {},
   "source": [
    "Низкое значения показателя F1 модели дерева решений говорит о не лучшем сочетании показателей точности(Precision) и полноты(Recall), в то время как roc-auc равен ~0.85. Модель предсказывает примерно ~56% положительных ответов, достаточно низкий показатей, модель плохо предсказывает уход клиента. Точность у модели чуть выше полноты, примерно ~72% выявленных ответов являютя истинно положительными. "
   ]
  },
  {
   "cell_type": "code",
   "execution_count": 15,
   "id": "08513f85-7fc5-46fb-9ca6-25a693d4c7e0",
   "metadata": {},
   "outputs": [
    {
     "name": "stdout",
     "output_type": "stream",
     "text": [
      "F1-мера: 0.5635528330781011\n",
      "Accuracy: 0.8575\n",
      "Полнота: 0.4309133489461358\n",
      "Точность: 0.8141592920353983\n"
     ]
    }
   ],
   "source": [
    "forest_imbalanced_f1 = 0\n",
    "best_predicted_valid = 0\n",
    "forest_imbalanced = None\n",
    "\n",
    "for est in range(10, 101, 10):\n",
    "    for depth in range(1, 10):\n",
    "        model = RandomForestClassifier(n_estimators=est, max_depth=depth, random_state=12345)\n",
    "        model.fit(features_train, target_train)\n",
    "        prediction = model.predict(features_valid)\n",
    "        result = f1_score(target_valid, prediction) \n",
    "        \n",
    "        if result > forest_imbalanced_f1:\n",
    "            forest_imbalanced_f1 = result\n",
    "            forest_imbalanced = model\n",
    "            best_predicted_valid = prediction\n",
    "\n",
    "print(\"F1-мера:\", forest_imbalanced_f1)\n",
    "forest_imbalanced_metrics = other_metrics(target_valid, best_predicted_valid)\n",
    "print(\"Accuracy:\", forest_imbalanced_metrics[0])\n",
    "print(\"Полнота:\", forest_imbalanced_metrics[1])\n",
    "print(\"Точность:\", forest_imbalanced_metrics[2])          "
   ]
  },
  {
   "cell_type": "code",
   "execution_count": 16,
   "id": "bb19c0ce-0679-4f5b-bd70-87d65cb55935",
   "metadata": {},
   "outputs": [
    {
     "data": {
      "image/png": "[encoded data removed]",
      "text/plain": [
       "<Figure size 432x288 with 2 Axes>"
      ]
     },
     "metadata": {
      "needs_background": "light"
     },
     "output_type": "display_data"
    }
   ],
   "source": [
    "sns.heatmap(confusion_matrix(target_valid, \n",
    "                             best_predicted_valid), \n",
    "            annot=True, \n",
    "            fmt='d', \n",
    "            cmap=\"Blues\")\n",
    "plt.ylabel('True label')\n",
    "plt.xlabel('Predicted label')\n",
    "plt.show()"
   ]
  },
  {
   "cell_type": "code",
   "execution_count": 17,
   "id": "78a15e05-3593-4e49-9595-e97678a6c151",
   "metadata": {},
   "outputs": [],
   "source": [
    "probabilities_valid = forest_imbalanced.predict_proba(features_valid)\n",
    "probabilities_one_valid = probabilities_valid[:, 1]"
   ]
  },
  {
   "cell_type": "code",
   "execution_count": 18,
   "id": "afb9a822-b45e-43f0-b398-6f97ca60a365",
   "metadata": {},
   "outputs": [
    {
     "data": {
      "image/png": "[encoded data removed]",
      "text/plain": [
       "<Figure size 432x288 with 1 Axes>"
      ]
     },
     "metadata": {
      "needs_background": "light"
     },
     "output_type": "display_data"
    }
   ],
   "source": [
    "fpr, tpr, thresholds = roc_curve(target_valid, probabilities_one_valid)\n",
    "plt.plot([0, 1], [0, 1], linestyle='--')\n",
    "plt.xlim([0, 1])\n",
    "plt.ylim([0, 1])\n",
    "plt.plot(fpr, tpr)\n",
    "plt.xlabel(\"False Positive Rate\")\n",
    "plt.ylabel(\"True Positive Rate\")\n",
    "plt.title(\"ROC-кривая\")\n",
    "plt.show()"
   ]
  },
  {
   "cell_type": "code",
   "execution_count": 19,
   "id": "314bd209-fb63-49ab-9fef-0499b3257f58",
   "metadata": {},
   "outputs": [
    {
     "data": {
      "text/plain": [
       "0.8704871879238496"
      ]
     },
     "execution_count": 19,
     "metadata": {},
     "output_type": "execute_result"
    }
   ],
   "source": [
    "roc_auc_forest_imbalanced = roc_auc_score(target_valid, probabilities_one_valid)\n",
    "roc_auc_forest_imbalanced"
   ]
  },
  {
   "cell_type": "markdown",
   "id": "a38adf86-cd2c-4180-8bf2-a2b6e968f8f8",
   "metadata": {},
   "source": [
    "Как и дерево решений, случайный лес имеет значение показателя F1 ~56%, roc-auc равен ~0.87. Полнота у модели ниже у дерева решений, модель предсказывает лишь ~43% ухода клиентов, но зато точность у модели высокая ~81%."
   ]
  },
  {
   "cell_type": "code",
   "execution_count": 20,
   "id": "ed24d7ca-8efe-4647-836a-fa457dadd714",
   "metadata": {},
   "outputs": [
    {
     "name": "stdout",
     "output_type": "stream",
     "text": [
      "F1-мера: 0.29525483304042177\n",
      "Accuracy: 0.7995\n",
      "Полнота: 0.19672131147540983\n",
      "Точность: 0.5915492957746479\n"
     ]
    }
   ],
   "source": [
    "logistic_imbalanced_f1 = 0\n",
    "best_predicted_valid = 0\n",
    "logistic_imbalanced = None\n",
    "\n",
    "for iters in (100, 10001, 100):\n",
    "    model = LogisticRegression(random_state=12345, max_iter=iters)\n",
    "    model.fit(features_train, target_train)\n",
    "    prediction = model.predict(features_valid)\n",
    "    result = f1_score(target_valid, prediction) \n",
    "    \n",
    "    if result > logistic_imbalanced_f1:\n",
    "        logistic_imbalanced_f1 = result\n",
    "        logistic_imbalanced = model\n",
    "        best_predicted_valid = prediction\n",
    "\n",
    "print(\"F1-мера:\", logistic_imbalanced_f1)\n",
    "logistic_imbalanced_metrics = other_metrics(target_valid, best_predicted_valid)\n",
    "print(\"Accuracy:\", logistic_imbalanced_metrics[0])\n",
    "print(\"Полнота:\", logistic_imbalanced_metrics[1])\n",
    "print(\"Точность:\", logistic_imbalanced_metrics[2])"
   ]
  },
  {
   "cell_type": "code",
   "execution_count": 21,
   "id": "5418847e-6466-4f17-9ea2-75204e7f156a",
   "metadata": {},
   "outputs": [
    {
     "data": {
      "image/png": "[encoded data removed]",
      "text/plain": [
       "<Figure size 432x288 with 2 Axes>"
      ]
     },
     "metadata": {
      "needs_background": "light"
     },
     "output_type": "display_data"
    }
   ],
   "source": [
    "sns.heatmap(confusion_matrix(target_valid, \n",
    "                             best_predicted_valid), \n",
    "            annot=True, \n",
    "            fmt='d', \n",
    "            cmap=\"Blues\")\n",
    "plt.ylabel('True label')\n",
    "plt.xlabel('Predicted label')\n",
    "plt.show()"
   ]
  },
  {
   "cell_type": "code",
   "execution_count": 22,
   "id": "d72c82e8-f542-4899-908a-4264baf242b9",
   "metadata": {},
   "outputs": [],
   "source": [
    "probabilities_valid = logistic_imbalanced.predict_proba(features_valid)\n",
    "probabilities_one_valid = probabilities_valid[:, 1]"
   ]
  },
  {
   "cell_type": "code",
   "execution_count": 23,
   "id": "605f9cbf-ba0b-415d-b522-11b919d74c3b",
   "metadata": {},
   "outputs": [
    {
     "data": {
      "image/png": "[encoded data removed]",
      "text/plain": [
       "<Figure size 432x288 with 1 Axes>"
      ]
     },
     "metadata": {
      "needs_background": "light"
     },
     "output_type": "display_data"
    }
   ],
   "source": [
    "fpr, tpr, thresholds = roc_curve(target_valid, probabilities_one_valid)\n",
    "plt.plot([0, 1], [0, 1], linestyle='--')\n",
    "plt.xlim([0, 1])\n",
    "plt.ylim([0, 1])\n",
    "plt.plot(fpr, tpr)\n",
    "plt.xlabel(\"False Positive Rate\")\n",
    "plt.ylabel(\"True Positive Rate\")\n",
    "plt.title(\"ROC-кривая\")\n",
    "plt.show()"
   ]
  },
  {
   "cell_type": "code",
   "execution_count": 24,
   "id": "d3a568b1-c7a0-4576-8889-92177a1d61e5",
   "metadata": {},
   "outputs": [
    {
     "data": {
      "text/plain": [
       "0.758640763111702"
      ]
     },
     "execution_count": 24,
     "metadata": {},
     "output_type": "execute_result"
    }
   ],
   "source": [
    "roc_auc_logistic_imbalanced = roc_auc_score(target_valid, probabilities_one_valid)\n",
    "roc_auc_logistic_imbalanced"
   ]
  },
  {
   "cell_type": "markdown",
   "id": "13ce7d3e-1da9-41ca-a1b9-2659d35d7949",
   "metadata": {},
   "source": [
    "Все показатели модели логистической регрессии ниже двух предыдущих обученных моделей."
   ]
  },
  {
   "cell_type": "markdown",
   "id": "378eafe5-373e-4e95-ad5b-7859befe2ecc",
   "metadata": {},
   "source": [
    "[В начало](#intro)"
   ]
  },
  {
   "cell_type": "markdown",
   "id": "e05c0db2-09ac-44b1-852f-9426a9b9dae9",
   "metadata": {},
   "source": [
    "## Борьба с дисбалансом"
   ]
  },
  {
   "cell_type": "markdown",
   "id": "30109b8a-ac54-4e57-9c25-09133e3816a1",
   "metadata": {},
   "source": [
    "**Дерево решений**"
   ]
  },
  {
   "cell_type": "code",
   "execution_count": 25,
   "id": "7befc38d-2397-4f33-bdd6-d4c12d8c93dd",
   "metadata": {},
   "outputs": [
    {
     "name": "stdout",
     "output_type": "stream",
     "text": [
      "F1-мера: 0.5933852140077821\n",
      "Accuracy: 0.791\n",
      "Полнота: 0.7142857142857143\n",
      "Точность: 0.5074875207986689\n"
     ]
    }
   ],
   "source": [
    "tree_balanced_f1 = 0\n",
    "best_predicted_valid = 0\n",
    "tree_balanced = None\n",
    "\n",
    "for depth in range(1, 10):\n",
    "    model = DecisionTreeClassifier(max_depth=depth, random_state=12345, class_weight=\"balanced\")\n",
    "    model.fit(features_train, target_train)\n",
    "    prediction = model.predict(features_valid)\n",
    "    result = f1_score(target_valid, prediction)\n",
    "\n",
    "    if result > tree_balanced_f1:\n",
    "        tree_balanced_f1 = result\n",
    "        tree_balanced = model\n",
    "        best_predicted_valid = prediction\n",
    "        \n",
    "print(\"F1-мера:\", tree_balanced_f1)\n",
    "tree_balanced_metrics = other_metrics(target_valid, best_predicted_valid)\n",
    "print(\"Accuracy:\", tree_balanced_metrics[0])\n",
    "print(\"Полнота:\", tree_balanced_metrics[1])\n",
    "print(\"Точность:\", tree_balanced_metrics[2])"
   ]
  },
  {
   "cell_type": "code",
   "execution_count": 26,
   "id": "21772d13-fb10-401e-b6b8-b4b5b4fd1831",
   "metadata": {},
   "outputs": [
    {
     "data": {
      "image/png": "[encoded data removed]",
      "text/plain": [
       "<Figure size 432x288 with 2 Axes>"
      ]
     },
     "metadata": {
      "needs_background": "light"
     },
     "output_type": "display_data"
    }
   ],
   "source": [
    "sns.heatmap(confusion_matrix(target_valid, \n",
    "                             best_predicted_valid), \n",
    "            annot=True, \n",
    "            fmt='d', \n",
    "            cmap=\"Blues\")\n",
    "plt.ylabel('True label')\n",
    "plt.xlabel('Predicted label')\n",
    "plt.show()"
   ]
  },
  {
   "cell_type": "code",
   "execution_count": 27,
   "id": "692b628a-4062-4c5a-9b03-f172459c0e88",
   "metadata": {},
   "outputs": [],
   "source": [
    "probabilities_valid = tree_balanced.predict_proba(features_valid)\n",
    "probabilities_one_valid = probabilities_valid[:, 1]"
   ]
  },
  {
   "cell_type": "code",
   "execution_count": 28,
   "id": "f187088d-2a5d-4930-9eee-515a4905bd2a",
   "metadata": {},
   "outputs": [
    {
     "data": {
      "image/png": "[encoded data removed]",
      "text/plain": [
       "<Figure size 432x288 with 1 Axes>"
      ]
     },
     "metadata": {
      "needs_background": "light"
     },
     "output_type": "display_data"
    }
   ],
   "source": [
    "fpr, tpr, thresholds = roc_curve(target_valid, probabilities_one_valid)\n",
    "plt.plot([0, 1], [0, 1], linestyle='--')\n",
    "plt.xlim([0, 1])\n",
    "plt.ylim([0, 1])\n",
    "plt.plot(fpr, tpr)\n",
    "plt.xlabel(\"False Positive Rate\")\n",
    "plt.ylabel(\"True Positive Rate\")\n",
    "plt.title(\"ROC-кривая\")\n",
    "plt.show()"
   ]
  },
  {
   "cell_type": "code",
   "execution_count": 29,
   "id": "047906ec-09c1-41f7-9ca3-76ea8619bc82",
   "metadata": {},
   "outputs": [
    {
     "data": {
      "text/plain": [
       "0.8180962107936771"
      ]
     },
     "execution_count": 29,
     "metadata": {},
     "output_type": "execute_result"
    }
   ],
   "source": [
    "roc_auc_tree_balanced = roc_auc_score(target_valid, probabilities_one_valid)\n",
    "roc_auc_tree_balanced"
   ]
  },
  {
   "cell_type": "markdown",
   "id": "cd828319-7cb9-415a-8e4c-1a690610ae99",
   "metadata": {},
   "source": [
    "Сбалансированная модель дерева решений имеет значение показатели F1 чуть лучше своего предшественника, соблюдается чуть лучшая балансировка между показателями полноты и точности. Полнота со сравнению улучшилась, точность подсбавилась, также подсбавилось значение roc-auc."
   ]
  },
  {
   "cell_type": "markdown",
   "id": "e9dfcb9e-a2e4-4ee0-b37a-eb946cfbdc19",
   "metadata": {},
   "source": [
    "**Случайный лес**"
   ]
  },
  {
   "cell_type": "code",
   "execution_count": 30,
   "id": "78cf623b-9882-4fe8-ad3e-aa2ea2d052b1",
   "metadata": {},
   "outputs": [
    {
     "name": "stdout",
     "output_type": "stream",
     "text": [
      "F1-мера: 0.6545454545454545\n",
      "Accuracy: 0.8385\n",
      "Полнота: 0.7166276346604216\n",
      "Точность: 0.6023622047244095\n"
     ]
    }
   ],
   "source": [
    "forest_balanced_f1 = 0\n",
    "best_predicted_valid = 0\n",
    "forest_balanced = None\n",
    "\n",
    "for est in range(10, 101, 10):\n",
    "    for depth in range(1, 10):\n",
    "        model = RandomForestClassifier(n_estimators=est, max_depth=depth, random_state=12345, class_weight=\"balanced\")\n",
    "        model.fit(features_train, target_train)\n",
    "        prediction = model.predict(features_valid)\n",
    "        result = f1_score(target_valid, prediction) \n",
    "        \n",
    "        if result > forest_balanced_f1:\n",
    "            forest_balanced_f1 = result\n",
    "            forest_balanced = model\n",
    "            best_predicted_valid = prediction\n",
    "\n",
    "print(\"F1-мера:\", forest_balanced_f1)\n",
    "forest_balanced_metrics = other_metrics(target_valid, best_predicted_valid)\n",
    "print(\"Accuracy:\", forest_balanced_metrics[0])\n",
    "print(\"Полнота:\", forest_balanced_metrics[1])\n",
    "print(\"Точность:\", forest_balanced_metrics[2])"
   ]
  },
  {
   "cell_type": "code",
   "execution_count": 31,
   "id": "f3208406-80bb-43cb-9a38-2d698715c37e",
   "metadata": {},
   "outputs": [
    {
     "data": {
      "image/png": "[encoded data removed]",
      "text/plain": [
       "<Figure size 432x288 with 2 Axes>"
      ]
     },
     "metadata": {
      "needs_background": "light"
     },
     "output_type": "display_data"
    }
   ],
   "source": [
    "sns.heatmap(confusion_matrix(target_valid, \n",
    "                             best_predicted_valid), \n",
    "            annot=True, \n",
    "            fmt='d', \n",
    "            cmap=\"Blues\")\n",
    "plt.ylabel('True label')\n",
    "plt.xlabel('Predicted label')\n",
    "plt.show()"
   ]
  },
  {
   "cell_type": "code",
   "execution_count": 32,
   "id": "467a00de-771f-4096-8ce4-aea7a9636bfd",
   "metadata": {},
   "outputs": [],
   "source": [
    "probabilities_valid = forest_balanced.predict_proba(features_valid)\n",
    "probabilities_one_valid = probabilities_valid[:, 1]"
   ]
  },
  {
   "cell_type": "code",
   "execution_count": 33,
   "id": "16fd3655-f5f9-4802-aa16-7ab2f3b1f7f2",
   "metadata": {},
   "outputs": [
    {
     "data": {
      "image/png": "[encoded data removed]",
      "text/plain": [
       "<Figure size 432x288 with 1 Axes>"
      ]
     },
     "metadata": {
      "needs_background": "light"
     },
     "output_type": "display_data"
    }
   ],
   "source": [
    "fpr, tpr, thresholds = roc_curve(target_valid, probabilities_one_valid)\n",
    "plt.plot([0, 1], [0, 1], linestyle='--')\n",
    "plt.xlim([0, 1])\n",
    "plt.ylim([0, 1])\n",
    "plt.plot(fpr, tpr)\n",
    "plt.xlabel(\"False Positive Rate\")\n",
    "plt.ylabel(\"True Positive Rate\")\n",
    "plt.title(\"ROC-кривая\")\n",
    "plt.show()"
   ]
  },
  {
   "cell_type": "code",
   "execution_count": 34,
   "id": "a798089e-256c-4b5c-b7c7-abc6984faa75",
   "metadata": {},
   "outputs": [
    {
     "data": {
      "text/plain": [
       "0.8709606340008724"
      ]
     },
     "execution_count": 34,
     "metadata": {},
     "output_type": "execute_result"
    }
   ],
   "source": [
    "roc_auc_forest_balanced = roc_auc_score(target_valid, probabilities_one_valid)\n",
    "roc_auc_forest_balanced"
   ]
  },
  {
   "cell_type": "markdown",
   "id": "088e90c2-c732-4add-a26f-2aaefe2a3f5b",
   "metadata": {},
   "source": [
    "Сбалансированная модель случайного леса выдает высокие значения показателей по сравнению с остальными моделями, наблюдается наилучший F1, благодаря высоким показателям точности и полноты, их лучшему сочетанию, с 70% предсказывает положительные ответы из которых 60% действительно положительные. Показатель roc-auc 0.87 - самый высокий."
   ]
  },
  {
   "cell_type": "markdown",
   "id": "192aca5d-06d4-4117-8d1f-6692232b912e",
   "metadata": {},
   "source": [
    "**Логистическая регресиия**"
   ]
  },
  {
   "cell_type": "code",
   "execution_count": 35,
   "id": "aca6a342-8114-4ceb-8eac-fdd67e7ff3a3",
   "metadata": {},
   "outputs": [
    {
     "name": "stdout",
     "output_type": "stream",
     "text": [
      "F1-мера: 0.5025295109612141\n",
      "Accuracy: 0.705\n",
      "Полнота: 0.6978922716627635\n",
      "Точность: 0.3926218708827404\n"
     ]
    }
   ],
   "source": [
    "logistic_balanced_f1 = 0\n",
    "best_predicted_valid = 0\n",
    "logistic_balanced = None\n",
    "\n",
    "for iters in (100, 10001, 100):\n",
    "    model = LogisticRegression(random_state=12345, max_iter=iters, class_weight=\"balanced\")\n",
    "    model.fit(features_train, target_train)\n",
    "    prediction = model.predict(features_valid)\n",
    "    result = f1_score(target_valid, prediction) \n",
    "    \n",
    "    if result > logistic_balanced_f1:\n",
    "        logistic_balanced_f1 = result\n",
    "        logistic_balanced = model\n",
    "        best_predicted_valid = prediction\n",
    "\n",
    "print(\"F1-мера:\", logistic_balanced_f1)\n",
    "logistic_balanced_metrics = other_metrics(target_valid, best_predicted_valid)\n",
    "print(\"Accuracy:\", logistic_balanced_metrics[0])\n",
    "print(\"Полнота:\", logistic_balanced_metrics[1])\n",
    "print(\"Точность:\", logistic_balanced_metrics[2])"
   ]
  },
  {
   "cell_type": "code",
   "execution_count": 36,
   "id": "8e45418c-1fec-43ce-82b4-fd017853c100",
   "metadata": {},
   "outputs": [],
   "source": [
    "probabilities_valid = logistic_balanced.predict_proba(features_valid)\n",
    "probabilities_one_valid = probabilities_valid[:, 1]"
   ]
  },
  {
   "cell_type": "code",
   "execution_count": 37,
   "id": "e7be9931-e9b9-4982-a86b-5ec4979b9441",
   "metadata": {},
   "outputs": [
    {
     "data": {
      "image/png": "[encoded data removed]",
      "text/plain": [
       "<Figure size 432x288 with 2 Axes>"
      ]
     },
     "metadata": {
      "needs_background": "light"
     },
     "output_type": "display_data"
    }
   ],
   "source": [
    "sns.heatmap(confusion_matrix(target_valid, \n",
    "                             best_predicted_valid), \n",
    "            annot=True, \n",
    "            fmt='d', \n",
    "            cmap=\"Blues\")\n",
    "plt.ylabel('True label')\n",
    "plt.xlabel('Predicted label')\n",
    "plt.show()"
   ]
  },
  {
   "cell_type": "code",
   "execution_count": 38,
   "id": "61088e6c-d352-499b-a9a9-6eb28fd49c91",
   "metadata": {},
   "outputs": [
    {
     "data": {
      "image/png": "[encoded data removed]",
      "text/plain": [
       "<Figure size 432x288 with 1 Axes>"
      ]
     },
     "metadata": {
      "needs_background": "light"
     },
     "output_type": "display_data"
    }
   ],
   "source": [
    "fpr, tpr, thresholds = roc_curve(target_valid, probabilities_one_valid)\n",
    "plt.plot([0, 1], [0, 1], linestyle='--')\n",
    "plt.xlim([0, 1])\n",
    "plt.ylim([0, 1])\n",
    "plt.plot(fpr, tpr)\n",
    "plt.xlabel(\"False Positive Rate\")\n",
    "plt.ylabel(\"True Positive Rate\")\n",
    "plt.title(\"ROC-кривая\")\n",
    "plt.show()"
   ]
  },
  {
   "cell_type": "code",
   "execution_count": 39,
   "id": "76685387-de89-4233-b233-d2878bb41a84",
   "metadata": {},
   "outputs": [
    {
     "data": {
      "text/plain": [
       "0.7644174007810371"
      ]
     },
     "execution_count": 39,
     "metadata": {},
     "output_type": "execute_result"
    }
   ],
   "source": [
    "roc_auc_logistic_balanced = roc_auc_score(target_valid, probabilities_one_valid)\n",
    "roc_auc_logistic_balanced"
   ]
  },
  {
   "cell_type": "markdown",
   "id": "a795b5ea-4900-45e9-bed6-6d9f90e05535",
   "metadata": {},
   "source": [
    "Сбалансированная модель логистической регресии лучше своего предшественника, однако значения метрик все еще самые низкие."
   ]
  },
  {
   "cell_type": "markdown",
   "id": "c40e61e1-c01e-486a-9077-23f92699a731",
   "metadata": {},
   "source": [
    "Попробуем еще один способ устранения дисбаланса."
   ]
  },
  {
   "cell_type": "code",
   "execution_count": 40,
   "id": "ef42793e-8a6a-4444-a569-4adda1fa1b87",
   "metadata": {},
   "outputs": [],
   "source": [
    "# Разделим признаки и целевой признак по единице и нулям из целевого признака\n",
    "def upsample(features, target, repeat):\n",
    "    \n",
    "    features_zeros = features[target == 0]\n",
    "    features_ones = features[target == 1]\n",
    "    target_zeros = target[target == 0]\n",
    "    target_ones = target[target == 1]\n",
    "    \n",
    "    features_upsampled = pd.concat([features_zeros] + [features_ones] * repeat)\n",
    "    target_upsampled = pd.concat([target_zeros] + [target_ones] * repeat)\n",
    "    \n",
    "    features_upsampled = shuffle(features_upsampled, random_state=12345)\n",
    "    target_upsampled = shuffle(target_upsampled, random_state=12345)\n",
    "    \n",
    "    return features_upsampled, target_upsampled"
   ]
  },
  {
   "cell_type": "code",
   "execution_count": 41,
   "id": "922e4b81-02fc-4e05-bba6-fce8257ffd8a",
   "metadata": {},
   "outputs": [],
   "source": [
    "# Повысим веса положительных объектов\n",
    "features_upsampled, target_upsampled = upsample(features_train, target_train, 4)"
   ]
  },
  {
   "cell_type": "code",
   "execution_count": 42,
   "id": "a7e396e2-9ace-4402-a960-8b7171132934",
   "metadata": {},
   "outputs": [],
   "source": [
    "def dowm_sample(features, target, fraction):\n",
    "    \n",
    "    features_zeros = features[target == 0]\n",
    "    features_ones = features[target == 1]\n",
    "    target_zeros = target[target == 0]\n",
    "    target_ones = target[target == 1]\n",
    "    \n",
    "    features_downsampled = pd.concat([features_ones] + [features_zeros.sample(frac=fraction, random_state=12345)])\n",
    "    target_downsampled = pd.concat([target_ones] + [target_zeros.sample(frac=fraction, random_state=12345)])\n",
    "    \n",
    "    features_downsampled = shuffle(features_downsampled, random_state=12345)\n",
    "    target_downsampled = shuffle(target_downsampled, random_state=12345)\n",
    "    \n",
    "    return features_downsampled, target_downsampled"
   ]
  },
  {
   "cell_type": "code",
   "execution_count": 43,
   "id": "c4798ee3-e6de-46e2-a474-4c0fcc286360",
   "metadata": {},
   "outputs": [],
   "source": [
    "# Снизим долю отрицательных значений\n",
    "features_downsampled, target_downsampled = dowm_sample(features_train, target_train, 0.25)"
   ]
  },
  {
   "cell_type": "code",
   "execution_count": 44,
   "id": "248e8ae8-5d64-4516-8cc5-ec9f02e279ca",
   "metadata": {},
   "outputs": [
    {
     "name": "stdout",
     "output_type": "stream",
     "text": [
      "(1195, 11)\n",
      "(1219, 11)\n"
     ]
    }
   ],
   "source": [
    "print(features_downsampled[target_train==0].shape)\n",
    "print(features_downsampled[target_train==1].shape)"
   ]
  },
  {
   "cell_type": "markdown",
   "id": "f8593080-5c3d-43cd-8d8f-b39c7de4d965",
   "metadata": {},
   "source": [
    "Классов в обучающей выборке примерно поровну, попробуем построить модели."
   ]
  },
  {
   "cell_type": "markdown",
   "id": "b17a670f-0dd0-41af-b024-db239d12ecae",
   "metadata": {},
   "source": [
    "**Дерево решений**"
   ]
  },
  {
   "cell_type": "code",
   "execution_count": 45,
   "id": "9b8cb88f-13c6-436f-956b-9f858b235cf5",
   "metadata": {},
   "outputs": [
    {
     "name": "stdout",
     "output_type": "stream",
     "text": [
      "F1-мера: 0.582210242587601\n",
      "Accuracy: 0.7675\n",
      "Полнота: 0.7587822014051522\n",
      "Точность: 0.47230320699708456\n"
     ]
    }
   ],
   "source": [
    "tree_f1 = 0\n",
    "best_predicted_valid = 0\n",
    "tree = None\n",
    "\n",
    "for depth in range(1, 10):\n",
    "    model = DecisionTreeClassifier(max_depth=depth, random_state=12345)\n",
    "    model.fit(features_downsampled, target_downsampled)\n",
    "    prediction = model.predict(features_valid)\n",
    "    result = f1_score(target_valid, prediction)\n",
    "\n",
    "    if result > tree_f1:\n",
    "        tree_f1 = result\n",
    "        tree = model\n",
    "        best_predicted_valid = prediction\n",
    "        \n",
    "print(\"F1-мера:\", tree_f1)\n",
    "tree_metrics = other_metrics(target_valid, best_predicted_valid)\n",
    "print(\"Accuracy:\", tree_metrics[0])\n",
    "print(\"Полнота:\", tree_metrics[1])\n",
    "print(\"Точность:\", tree_metrics[2])"
   ]
  },
  {
   "cell_type": "code",
   "execution_count": 46,
   "id": "dc9f2d97-733d-4695-8b41-7ee24a0985db",
   "metadata": {},
   "outputs": [
    {
     "data": {
      "image/png": "[encoded data removed]",
      "text/plain": [
       "<Figure size 432x288 with 2 Axes>"
      ]
     },
     "metadata": {
      "needs_background": "light"
     },
     "output_type": "display_data"
    }
   ],
   "source": [
    "sns.heatmap(confusion_matrix(target_valid, \n",
    "                             best_predicted_valid), \n",
    "            annot=True, \n",
    "            fmt='d', \n",
    "            cmap=\"Blues\")\n",
    "plt.ylabel('True label')\n",
    "plt.xlabel('Predicted label')\n",
    "plt.show()"
   ]
  },
  {
   "cell_type": "code",
   "execution_count": 47,
   "id": "c8cd0b49-8931-4db4-9aee-ae97b906eefe",
   "metadata": {},
   "outputs": [],
   "source": [
    "probabilities_valid = tree.predict_proba(features_valid)\n",
    "probabilities_one_valid = probabilities_valid[:, 1]"
   ]
  },
  {
   "cell_type": "code",
   "execution_count": 48,
   "id": "05d94223-e4ce-47f8-8df8-521a9a5a582b",
   "metadata": {},
   "outputs": [
    {
     "data": {
      "image/png": "[encoded data removed]",
      "text/plain": [
       "<Figure size 432x288 with 1 Axes>"
      ]
     },
     "metadata": {
      "needs_background": "light"
     },
     "output_type": "display_data"
    }
   ],
   "source": [
    "fpr, tpr, thresholds = roc_curve(target_valid, probabilities_one_valid)\n",
    "plt.plot([0, 1], [0, 1], linestyle='--')\n",
    "plt.xlim([0, 1])\n",
    "plt.ylim([0, 1])\n",
    "plt.plot(fpr, tpr)\n",
    "plt.xlabel(\"False Positive Rate\")\n",
    "plt.ylabel(\"True Positive Rate\")\n",
    "plt.title(\"ROC-кривая\")\n",
    "plt.show()"
   ]
  },
  {
   "cell_type": "code",
   "execution_count": 49,
   "id": "2f8547a0-0ca1-4986-a325-40b2ef8e7f88",
   "metadata": {},
   "outputs": [
    {
     "data": {
      "text/plain": [
       "0.8218889902943554"
      ]
     },
     "execution_count": 49,
     "metadata": {},
     "output_type": "execute_result"
    }
   ],
   "source": [
    "roc_auc_tree = roc_auc_score(target_valid, probabilities_one_valid)\n",
    "roc_auc_tree"
   ]
  },
  {
   "cell_type": "markdown",
   "id": "6dce2d15-8d99-46be-8fb4-1ccf4e251119",
   "metadata": {},
   "source": [
    "Значения показателей незначительно ниже при upsampling/downsampling, чем при настройке гиперпараметра class_weight, но почти в той же степени выше аналогичной несбалансированной модели."
   ]
  },
  {
   "cell_type": "code",
   "execution_count": 50,
   "id": "feb659d2-234b-49d2-84e6-6016a76eb052",
   "metadata": {},
   "outputs": [
    {
     "name": "stdout",
     "output_type": "stream",
     "text": [
      "F1-мера: 0.626641651031895\n",
      "Accuracy: 0.801\n",
      "Полнота: 0.7822014051522248\n",
      "Точность: 0.5226917057902973\n"
     ]
    }
   ],
   "source": [
    "forest_f1 = 0\n",
    "best_predicted_valid = 0\n",
    "forest = None\n",
    "\n",
    "for est in range(10, 101, 10):\n",
    "    for depth in range(1, 10):\n",
    "        model = RandomForestClassifier(n_estimators=est, max_depth=depth, random_state=12345)\n",
    "        model.fit(features_downsampled, target_downsampled)\n",
    "        prediction = model.predict(features_valid)\n",
    "        result = f1_score(target_valid, prediction) \n",
    "        \n",
    "        if result > forest_f1:\n",
    "            forest_f1 = result\n",
    "            forest = model\n",
    "            best_predicted_valid = prediction\n",
    "\n",
    "print(\"F1-мера:\", forest_f1)\n",
    "forest_metrics = other_metrics(target_valid, best_predicted_valid)\n",
    "print(\"Accuracy:\", forest_metrics[0])\n",
    "print(\"Полнота:\", forest_metrics[1])\n",
    "print(\"Точность:\", forest_metrics[2])"
   ]
  },
  {
   "cell_type": "code",
   "execution_count": 51,
   "id": "56378951-6138-4c28-a944-537083dbbcdb",
   "metadata": {},
   "outputs": [
    {
     "data": {
      "image/png": "[encoded data removed]",
      "text/plain": [
       "<Figure size 432x288 with 2 Axes>"
      ]
     },
     "metadata": {
      "needs_background": "light"
     },
     "output_type": "display_data"
    }
   ],
   "source": [
    "sns.heatmap(confusion_matrix(target_valid, \n",
    "                             best_predicted_valid), \n",
    "            annot=True, \n",
    "            fmt='d', \n",
    "            cmap=\"Blues\")\n",
    "plt.ylabel('True label')\n",
    "plt.xlabel('Predicted label')\n",
    "plt.show()"
   ]
  },
  {
   "cell_type": "code",
   "execution_count": 52,
   "id": "4e2221d4-c429-4579-a778-9d7aa920647b",
   "metadata": {},
   "outputs": [],
   "source": [
    "probabilities_valid = forest.predict_proba(features_valid)\n",
    "probabilities_one_valid = probabilities_valid[:, 1]"
   ]
  },
  {
   "cell_type": "code",
   "execution_count": 53,
   "id": "d7b1d9a6-2892-46db-8d8c-c7aca64c0d48",
   "metadata": {},
   "outputs": [
    {
     "data": {
      "image/png": "[encoded data removed]",
      "text/plain": [
       "<Figure size 432x288 with 1 Axes>"
      ]
     },
     "metadata": {
      "needs_background": "light"
     },
     "output_type": "display_data"
    }
   ],
   "source": [
    "fpr, tpr, thresholds = roc_curve(target_valid, probabilities_one_valid)\n",
    "plt.plot([0, 1], [0, 1], linestyle='--')\n",
    "plt.xlim([0, 1])\n",
    "plt.ylim([0, 1])\n",
    "plt.plot(fpr, tpr)\n",
    "plt.xlabel(\"False Positive Rate\")\n",
    "plt.ylabel(\"True Positive Rate\")\n",
    "plt.title(\"ROC-кривая\")\n",
    "plt.show()"
   ]
  },
  {
   "cell_type": "code",
   "execution_count": 54,
   "id": "9c70d2d6-ea31-414a-8f52-c93a0ec9f687",
   "metadata": {},
   "outputs": [
    {
     "data": {
      "text/plain": [
       "0.8663021032618649"
      ]
     },
     "execution_count": 54,
     "metadata": {},
     "output_type": "execute_result"
    }
   ],
   "source": [
    "roc_auc_forest = roc_auc_score(target_valid, probabilities_one_valid)\n",
    "roc_auc_forest"
   ]
  },
  {
   "cell_type": "markdown",
   "id": "6f79019a-b6d7-4130-8d75-a3304cfb8873",
   "metadata": {},
   "source": [
    "Значение метрик для случайного леса выше при настройке гиперпараметра class_weight."
   ]
  },
  {
   "cell_type": "code",
   "execution_count": 55,
   "id": "34371a3a-b7c0-4329-a70d-bf194e7cf6a2",
   "metadata": {},
   "outputs": [
    {
     "name": "stdout",
     "output_type": "stream",
     "text": [
      "F1-мера: 0.501248959200666\n",
      "Accuracy: 0.7005\n",
      "Полнота: 0.7049180327868853\n",
      "Точность: 0.3888888888888889\n"
     ]
    }
   ],
   "source": [
    "logistic_f1 = 0\n",
    "best_predicted_valid = 0\n",
    "logistic = None\n",
    "\n",
    "for iters in (100, 10001, 100):\n",
    "    model = LogisticRegression(random_state=12345, max_iter=iters)\n",
    "    model.fit(features_downsampled, target_downsampled)\n",
    "    prediction = model.predict(features_valid)\n",
    "    result = f1_score(target_valid, prediction) \n",
    "    \n",
    "    if result > logistic_f1:\n",
    "        logistic_f1 = result\n",
    "        logistic = model\n",
    "        best_predicted_valid = prediction\n",
    "\n",
    "print(\"F1-мера:\", logistic_f1)\n",
    "logistic_metrics = other_metrics(target_valid, best_predicted_valid)\n",
    "print(\"Accuracy:\", logistic_metrics[0])\n",
    "print(\"Полнота:\", logistic_metrics[1])\n",
    "print(\"Точность:\", logistic_metrics[2])"
   ]
  },
  {
   "cell_type": "code",
   "execution_count": 56,
   "id": "90ae41ea-a6a1-4c12-9eaf-43d8a3b1f6d4",
   "metadata": {},
   "outputs": [
    {
     "data": {
      "image/png": "[encoded data removed]",
      "text/plain": [
       "<Figure size 432x288 with 2 Axes>"
      ]
     },
     "metadata": {
      "needs_background": "light"
     },
     "output_type": "display_data"
    }
   ],
   "source": [
    "sns.heatmap(confusion_matrix(target_valid, \n",
    "                             best_predicted_valid), \n",
    "            annot=True, \n",
    "            fmt='d', \n",
    "            cmap=\"Blues\")\n",
    "plt.ylabel('True label')\n",
    "plt.xlabel('Predicted label')\n",
    "plt.show()"
   ]
  },
  {
   "cell_type": "code",
   "execution_count": 57,
   "id": "29bf22fe-d101-4c3b-87fd-4f5be2264d28",
   "metadata": {},
   "outputs": [],
   "source": [
    "probabilities_valid = logistic.predict_proba(features_valid)\n",
    "probabilities_one_valid = probabilities_valid[:, 1]"
   ]
  },
  {
   "cell_type": "code",
   "execution_count": 58,
   "id": "33cbbb2b-f98f-460e-ad08-c62fde806722",
   "metadata": {},
   "outputs": [
    {
     "data": {
      "image/png": "[encoded data removed]",
      "text/plain": [
       "<Figure size 432x288 with 1 Axes>"
      ]
     },
     "metadata": {
      "needs_background": "light"
     },
     "output_type": "display_data"
    }
   ],
   "source": [
    "fpr, tpr, thresholds = roc_curve(target_valid, probabilities_one_valid)\n",
    "plt.plot([0, 1], [0, 1], linestyle='--')\n",
    "plt.xlim([0, 1])\n",
    "plt.ylim([0, 1])\n",
    "plt.plot(fpr, tpr)\n",
    "plt.xlabel(\"False Positive Rate\")\n",
    "plt.ylabel(\"True Positive Rate\")\n",
    "plt.title(\"ROC-кривая\")\n",
    "plt.show()"
   ]
  },
  {
   "cell_type": "code",
   "execution_count": 59,
   "id": "278c98c4-db51-4633-9d55-48f2a1c91260",
   "metadata": {},
   "outputs": [
    {
     "data": {
      "text/plain": [
       "0.7670541083357776"
      ]
     },
     "execution_count": 59,
     "metadata": {},
     "output_type": "execute_result"
    }
   ],
   "source": [
    "roc_auc_logistic = roc_auc_score(target_valid, probabilities_one_valid)\n",
    "roc_auc_logistic"
   ]
  },
  {
   "cell_type": "markdown",
   "id": "6b4d2176-ae69-48bc-a37e-059de4036163",
   "metadata": {},
   "source": [
    "Практически идентичные значения при upsampling/downsampling и при настройке гиперпараметра class_weight у логистической регрессии."
   ]
  },
  {
   "cell_type": "markdown",
   "id": "8f9f12f3-00e4-42c6-922d-a65b42c64a1f",
   "metadata": {},
   "source": [
    "Выведем результаты всех моделей."
   ]
  },
  {
   "cell_type": "markdown",
   "id": "1b67f8c5-86bc-47c4-af23-e154b0fd6040",
   "metadata": {},
   "source": [
    "**Дерево решений**"
   ]
  },
  {
   "cell_type": "markdown",
   "id": "7ec9d77c-0b67-46f4-89f6-fcb208785a28",
   "metadata": {},
   "source": [
    "*Несбалансированная*"
   ]
  },
  {
   "cell_type": "code",
   "execution_count": 60,
   "id": "7afc6ff7-222e-41d2-84f5-56bd10e9b5a2",
   "metadata": {},
   "outputs": [
    {
     "name": "stdout",
     "output_type": "stream",
     "text": [
      "F1-мера: 0.5669515669515669\n",
      "Accuracy: 0.848\n",
      "Полнота: 0.46604215456674475\n",
      "Точность: 0.7236363636363636\n",
      "ROC_AUC: 0.8483788938334392\n"
     ]
    }
   ],
   "source": [
    "print(\"F1-мера:\", tree_imbalanced_f1)\n",
    "print(\"Accuracy:\", tree_imbalanced_metrics[0])\n",
    "print(\"Полнота:\", tree_imbalanced_metrics[1])\n",
    "print(\"Точность:\", tree_imbalanced_metrics[2])\n",
    "print(\"ROC_AUC:\", roc_auc_tree_imbalanced)"
   ]
  },
  {
   "cell_type": "markdown",
   "id": "1edda4cf-e342-431c-8953-a48eae2164a7",
   "metadata": {},
   "source": [
    "*Сбалансированная гиперпараметром class_weight=\"balanced\"*"
   ]
  },
  {
   "cell_type": "code",
   "execution_count": 61,
   "id": "12021fbe-2326-45c1-a2c8-7ee0dc154f53",
   "metadata": {},
   "outputs": [
    {
     "name": "stdout",
     "output_type": "stream",
     "text": [
      "F1-мера: 0.5933852140077821\n",
      "Accuracy: 0.791\n",
      "Полнота: 0.7142857142857143\n",
      "Точность: 0.5074875207986689\n",
      "ROC_AUC: 0.8180962107936771\n"
     ]
    }
   ],
   "source": [
    "print(\"F1-мера:\", tree_balanced_f1)\n",
    "print(\"Accuracy:\", tree_balanced_metrics[0])\n",
    "print(\"Полнота:\", tree_balanced_metrics[1])\n",
    "print(\"Точность:\", tree_balanced_metrics[2])\n",
    "print(\"ROC_AUC:\", roc_auc_tree_balanced)"
   ]
  },
  {
   "cell_type": "markdown",
   "id": "85785956-3798-4be4-8372-8f0104c4c40f",
   "metadata": {},
   "source": [
    "*Сбалансированная применением upsampling/downsampling*"
   ]
  },
  {
   "cell_type": "code",
   "execution_count": 62,
   "id": "c6d2eab3-8db0-49f6-a6db-28f581e01fd8",
   "metadata": {},
   "outputs": [
    {
     "name": "stdout",
     "output_type": "stream",
     "text": [
      "F1-мера: 0.582210242587601\n",
      "Accuracy: 0.7675\n",
      "Полнота: 0.7587822014051522\n",
      "Точность: 0.47230320699708456\n",
      "ROC_AUC: 0.8218889902943554\n"
     ]
    }
   ],
   "source": [
    "print(\"F1-мера:\", tree_f1)\n",
    "print(\"Accuracy:\", tree_metrics[0])\n",
    "print(\"Полнота:\", tree_metrics[1])\n",
    "print(\"Точность:\", tree_metrics[2])\n",
    "print(\"ROC_AUC:\", roc_auc_tree)"
   ]
  },
  {
   "cell_type": "markdown",
   "id": "10c25809-56c8-4a29-9b95-a57b2bcea306",
   "metadata": {},
   "source": [
    "**Случайный лес**"
   ]
  },
  {
   "cell_type": "markdown",
   "id": "b7f4df26-85bc-4d12-9f74-933ce55ebd60",
   "metadata": {},
   "source": [
    "*Несбалансированная*"
   ]
  },
  {
   "cell_type": "code",
   "execution_count": 63,
   "id": "61df57db-3f99-41ad-b5ce-dadae877ef55",
   "metadata": {},
   "outputs": [
    {
     "name": "stdout",
     "output_type": "stream",
     "text": [
      "F1-мера: 0.5635528330781011\n",
      "Accuracy: 0.8575\n",
      "Полнота: 0.4309133489461358\n",
      "Точность: 0.8141592920353983\n",
      "ROC_AUC: 0.8704871879238496\n"
     ]
    }
   ],
   "source": [
    "print(\"F1-мера:\", forest_imbalanced_f1)\n",
    "print(\"Accuracy:\", forest_imbalanced_metrics[0])\n",
    "print(\"Полнота:\", forest_imbalanced_metrics[1])\n",
    "print(\"Точность:\", forest_imbalanced_metrics[2])\n",
    "print(\"ROC_AUC:\", roc_auc_forest_imbalanced)"
   ]
  },
  {
   "cell_type": "markdown",
   "id": "070fa553-edf6-491f-a024-1bedac9c25af",
   "metadata": {},
   "source": [
    "*Сбалансированная гиперпараметром class_weight=\"balanced\"*"
   ]
  },
  {
   "cell_type": "code",
   "execution_count": 64,
   "id": "eecc45db-f998-4ec6-a536-e306894deef6",
   "metadata": {},
   "outputs": [
    {
     "name": "stdout",
     "output_type": "stream",
     "text": [
      "F1-мера: 0.6545454545454545\n",
      "Accuracy: 0.8385\n",
      "Полнота: 0.7166276346604216\n",
      "Точность: 0.6023622047244095\n",
      "ROC_AUC: 0.8709606340008724\n"
     ]
    }
   ],
   "source": [
    "print(\"F1-мера:\", forest_balanced_f1)\n",
    "print(\"Accuracy:\", forest_balanced_metrics[0])\n",
    "print(\"Полнота:\", forest_balanced_metrics[1])\n",
    "print(\"Точность:\", forest_balanced_metrics[2])\n",
    "print(\"ROC_AUC:\", roc_auc_forest_balanced)"
   ]
  },
  {
   "cell_type": "markdown",
   "id": "0303eca3-8d43-42c0-bc25-a0ec8ec56973",
   "metadata": {},
   "source": [
    "*Сбалансированная применением upsampling/downsampling*"
   ]
  },
  {
   "cell_type": "code",
   "execution_count": 65,
   "id": "e357912b-8e50-4f9b-8da0-1b96ee05fcd1",
   "metadata": {},
   "outputs": [
    {
     "name": "stdout",
     "output_type": "stream",
     "text": [
      "F1-мера: 0.626641651031895\n",
      "Accuracy: 0.801\n",
      "Полнота: 0.7822014051522248\n",
      "Точность: 0.5226917057902973\n",
      "ROC_AUC: 0.8663021032618649\n"
     ]
    }
   ],
   "source": [
    "print(\"F1-мера:\", forest_f1)\n",
    "print(\"Accuracy:\", forest_metrics[0])\n",
    "print(\"Полнота:\", forest_metrics[1])\n",
    "print(\"Точность:\", forest_metrics[2])\n",
    "print(\"ROC_AUC:\", roc_auc_forest)"
   ]
  },
  {
   "cell_type": "markdown",
   "id": "2d405b66-e556-4aae-a2b2-47868c6b4f30",
   "metadata": {},
   "source": [
    "**Логистическая регресия**"
   ]
  },
  {
   "cell_type": "markdown",
   "id": "f9e4107a-5627-4490-9a85-5aa2fd31dae9",
   "metadata": {},
   "source": [
    "*Несбалансированная*"
   ]
  },
  {
   "cell_type": "code",
   "execution_count": 66,
   "id": "6700b11f-cfbe-4f4f-a293-5c5931ad0d0b",
   "metadata": {},
   "outputs": [
    {
     "name": "stdout",
     "output_type": "stream",
     "text": [
      "F1-мера: 0.29525483304042177\n",
      "Accuracy: 0.7995\n",
      "Полнота: 0.19672131147540983\n",
      "Точность: 0.5915492957746479\n",
      "ROC_AUC: 0.758640763111702\n"
     ]
    }
   ],
   "source": [
    "print(\"F1-мера:\", logistic_imbalanced_f1)\n",
    "print(\"Accuracy:\", logistic_imbalanced_metrics[0])\n",
    "print(\"Полнота:\", logistic_imbalanced_metrics[1])\n",
    "print(\"Точность:\", logistic_imbalanced_metrics[2])\n",
    "print(\"ROC_AUC:\", roc_auc_logistic_imbalanced)"
   ]
  },
  {
   "cell_type": "markdown",
   "id": "0736d9de-86f8-4323-8bd3-ebfa742f08b1",
   "metadata": {},
   "source": [
    "*Сбалансированная гиперпараметром class_weight=\"balanced\"*"
   ]
  },
  {
   "cell_type": "code",
   "execution_count": 67,
   "id": "ddfbc910-fc9a-41ea-894e-dec154d7ce39",
   "metadata": {},
   "outputs": [
    {
     "name": "stdout",
     "output_type": "stream",
     "text": [
      "F1-мера: 0.5025295109612141\n",
      "Accuracy: 0.705\n",
      "Полнота: 0.6978922716627635\n",
      "Точность: 0.3926218708827404\n",
      "ROC_AUC: 0.7644174007810371\n"
     ]
    }
   ],
   "source": [
    "print(\"F1-мера:\", logistic_balanced_f1)\n",
    "print(\"Accuracy:\", logistic_balanced_metrics[0])\n",
    "print(\"Полнота:\", logistic_balanced_metrics[1])\n",
    "print(\"Точность:\", logistic_balanced_metrics[2])\n",
    "print(\"ROC_AUC:\", roc_auc_logistic_balanced)"
   ]
  },
  {
   "cell_type": "markdown",
   "id": "415e63a9-d0bc-4a45-b1de-bce004c493d3",
   "metadata": {},
   "source": [
    "*Сбалансированная применением upsampling/downsampling*"
   ]
  },
  {
   "cell_type": "code",
   "execution_count": 68,
   "id": "9dc86984-bf84-4e0b-bc7b-5183a323d9ab",
   "metadata": {
    "tags": []
   },
   "outputs": [
    {
     "name": "stdout",
     "output_type": "stream",
     "text": [
      "F1-мера: 0.501248959200666\n",
      "Accuracy: 0.7005\n",
      "Полнота: 0.7049180327868853\n",
      "Точность: 0.3888888888888889\n",
      "ROC_AUC: 0.7670541083357776\n"
     ]
    }
   ],
   "source": [
    "print(\"F1-мера:\", logistic_f1)\n",
    "print(\"Accuracy:\", logistic_metrics[0])\n",
    "print(\"Полнота:\", logistic_metrics[1])\n",
    "print(\"Точность:\", logistic_metrics[2])\n",
    "print(\"ROC_AUC:\", roc_auc_logistic)"
   ]
  },
  {
   "cell_type": "markdown",
   "id": "e0d4fe7d-e0f8-439e-bf0c-dddf2df6d933",
   "metadata": {},
   "source": [
    "Таким образом, остановимся на модели случайного леса с настройкой гиперпараметра class_weight, у которой показатели дали наилучшие результаты на валидационной выборке."
   ]
  },
  {
   "cell_type": "markdown",
   "id": "85f883e0-5890-4819-8f8e-04ce92ef30a9",
   "metadata": {},
   "source": [
    "Метрики:\n",
    "\n",
    "`F1-мера:` 0.6545454545454545\n",
    "\n",
    "`Accuracy:` 0.8385\n",
    "\n",
    "`Полнота:` 0.7166276346604216\n",
    "\n",
    "`Точность:` 0.6023622047244095\n",
    "\n",
    "`ROC_AUC:` 0.8710142316699694\n",
    "\n",
    "Гиперпараметры модели:\n",
    "\n",
    "`class_weight:` balanced\n",
    "\n",
    "`max_depth:` 8\n",
    "\n",
    "`n_estimators:` 100"
   ]
  },
  {
   "cell_type": "markdown",
   "id": "ba894803-2537-4eb4-9704-af1521232479",
   "metadata": {},
   "source": [
    "[В начало](#intro)"
   ]
  },
  {
   "cell_type": "markdown",
   "id": "920acab8-3b4c-4087-8e8f-2b861c3dc2eb",
   "metadata": {},
   "source": [
    "## Тестирование модели"
   ]
  },
  {
   "cell_type": "markdown",
   "id": "4a597a56-bdd6-469b-9a5b-df135a085f46",
   "metadata": {},
   "source": [
    "Для более точного предсказания увеличим тестовую выборку. Соотношение обучающей и тестовой выборки будет 3:2. "
   ]
  },
  {
   "cell_type": "code",
   "execution_count": 70,
   "id": "0d6e043c-562d-4f0a-af92-3cd5e9cbd78a",
   "metadata": {},
   "outputs": [],
   "source": [
    "features_test = pd.concat([features_test]+[features_valid])\n",
    "target_test = pd.concat([target_test]+[target_valid])"
   ]
  },
  {
   "cell_type": "markdown",
   "id": "84f599fb-28fd-4e09-b926-c806c39a8963",
   "metadata": {},
   "source": [
    "Обучим модель с лучшими гиперпараметрами и расчитаем метрики."
   ]
  },
  {
   "cell_type": "code",
   "execution_count": 71,
   "id": "ebaede9d-5564-48db-9979-afaa2caae00f",
   "metadata": {
    "tags": []
   },
   "outputs": [
    {
     "name": "stdout",
     "output_type": "stream",
     "text": [
      "F1-мера: 0.6188091263216472\n",
      "Accuracy: 0.82875\n",
      "Полнота: 0.6797066014669927\n",
      "Точность: 0.567926455566905\n"
     ]
    }
   ],
   "source": [
    "forest_balanced = RandomForestClassifier(n_estimators=100, max_depth=8, random_state=12345, class_weight=\"balanced\")\n",
    "forest_balanced.fit(features_train, target_train)\n",
    "predicted_test = forest_balanced.predict(features_test)\n",
    "forest_balanced_test_f1 = f1_score(target_test, predicted_test) \n",
    "\n",
    "print(\"F1-мера:\", forest_balanced_test_f1)\n",
    "forest_balanced_test_metrics = other_metrics(target_test, predicted_test)\n",
    "print(\"Accuracy:\", forest_balanced_test_metrics[0])\n",
    "print(\"Полнота:\", forest_balanced_test_metrics[1])\n",
    "print(\"Точность:\", forest_balanced_test_metrics[2])"
   ]
  },
  {
   "cell_type": "code",
   "execution_count": 72,
   "id": "261fc7a1-624f-4a78-9595-7b885e0b9bbf",
   "metadata": {},
   "outputs": [
    {
     "data": {
      "image/png": "[encoded data removed]",
      "text/plain": [
       "<Figure size 432x288 with 2 Axes>"
      ]
     },
     "metadata": {
      "needs_background": "light"
     },
     "output_type": "display_data"
    }
   ],
   "source": [
    "sns.heatmap(confusion_matrix(target_test, \n",
    "                             predicted_test), \n",
    "            annot=True, \n",
    "            fmt='d', \n",
    "            cmap=\"Blues\")\n",
    "plt.ylabel('True label')\n",
    "plt.xlabel('Predicted label')\n",
    "plt.show()"
   ]
  },
  {
   "cell_type": "code",
   "execution_count": 73,
   "id": "25571cbb-07be-4c5c-9164-5e9bc58cf52a",
   "metadata": {},
   "outputs": [],
   "source": [
    "probabilities_valid = forest_balanced.predict_proba(features_test)\n",
    "probabilities_one_valid = probabilities_valid[:, 1]"
   ]
  },
  {
   "cell_type": "code",
   "execution_count": 74,
   "id": "5fa6c662-134a-4321-bdd1-03ee1f54d781",
   "metadata": {},
   "outputs": [
    {
     "data": {
      "image/png": "[encoded data removed]",
      "text/plain": [
       "<Figure size 432x288 with 1 Axes>"
      ]
     },
     "metadata": {
      "needs_background": "light"
     },
     "output_type": "display_data"
    }
   ],
   "source": [
    "fpr, tpr, thresholds = roc_curve(target_test, probabilities_one_valid)\n",
    "plt.plot([0, 1], [0, 1], linestyle='--')\n",
    "plt.xlim([0, 1])\n",
    "plt.ylim([0, 1])\n",
    "plt.plot(fpr, tpr)\n",
    "plt.xlabel(\"False Positive Rate\")\n",
    "plt.ylabel(\"True Positive Rate\")\n",
    "plt.title(\"ROC-кривая\")\n",
    "plt.show()"
   ]
  },
  {
   "cell_type": "code",
   "execution_count": 75,
   "id": "6956de7c-f9c4-4981-987e-918101f59103",
   "metadata": {},
   "outputs": [
    {
     "data": {
      "text/plain": [
       "0.8623622485281666"
      ]
     },
     "execution_count": 75,
     "metadata": {},
     "output_type": "execute_result"
    }
   ],
   "source": [
    "roc_auc_forest_balanced_test = roc_auc_score(target_test, probabilities_one_valid)\n",
    "roc_auc_forest_balanced_test"
   ]
  },
  {
   "cell_type": "markdown",
   "id": "79a3d926-3eae-4c19-a4bc-8dedfbb60c92",
   "metadata": {},
   "source": [
    "Сбалансированная модель случайного леса на тестовой выборке выдала F1 ~0.62, что выше порогового значения - 0.59."
   ]
  },
  {
   "cell_type": "markdown",
   "id": "d658a762-67a9-4237-9b54-eb3ed1b32cc2",
   "metadata": {},
   "source": [
    "Проверим модель на адекватность."
   ]
  },
  {
   "cell_type": "code",
   "execution_count": 76,
   "id": "9c2c5466-0b0a-44fd-8451-febf5f9cd8ec",
   "metadata": {},
   "outputs": [
    {
     "name": "stdout",
     "output_type": "stream",
     "text": [
      "F1-мера: 0.0\n",
      "Accuracy: 0.7955\n",
      "ROC-AUC: 0.5\n",
      "Полнота: 0.0\n",
      "Точность: 0.0\n"
     ]
    }
   ],
   "source": [
    "constant_prediction = pd.Series([0]*len(target_test))\n",
    "print(\"F1-мера:\", f1_score(target_test, constant_prediction))\n",
    "print(\"Accuracy:\", other_metrics(target_test, constant_prediction)[0])\n",
    "print(\"ROC-AUC:\", roc_auc_score(target_test, constant_prediction))\n",
    "print(\"Полнота:\", other_metrics(target_test, constant_prediction)[1])\n",
    "print(\"Точность:\", other_metrics(target_test, constant_prediction)[2])"
   ]
  },
  {
   "cell_type": "markdown",
   "id": "60e9cdbb-2bd6-4023-8ed8-bffa5c5cd87d",
   "metadata": {},
   "source": [
    "Модель прошла проверку на адекватность."
   ]
  },
  {
   "cell_type": "markdown",
   "id": "adee5b75-7395-4d96-a5b1-17ae2323f54f",
   "metadata": {},
   "source": [
    "[В начало](#intro)"
   ]
  },
  {
   "cell_type": "markdown",
   "id": "cc20be34-c412-4f0a-825a-33211a4c1033",
   "metadata": {},
   "source": [
    "## Общие выводы"
   ]
  },
  {
   "cell_type": "markdown",
   "id": "d054b977-604f-46c9-b1e7-952dab3aa170",
   "metadata": {},
   "source": [
    "Лучшая модель RandomForestClassifie со следующими гиперпараметры модели: \n",
    "\n",
    "`class_weight:` balanced\n",
    "\n",
    "`max_depth:` 8\n",
    "\n",
    "`n_estimators:` 100\n",
    "\n",
    "На тестовой выборке метрики модели следующие:\n",
    "\n",
    "`F1-мера:` 0.6188091263216472\n",
    "\n",
    "`Accuracy:` 0.82875\n",
    "\n",
    "`Полнота:` 0.6797066014669927\n",
    "\n",
    "`Точность:` 0.567926455566905"
   ]
  },
  {
   "cell_type": "markdown",
   "id": "32924401-ef79-4a4c-9387-1df37f213700",
   "metadata": {},
   "source": [
    "[В начало](#intro)"
   ]
  }
 ],
 "metadata": {
  "kernelspec": {
   "display_name": "Python 3 (ipykernel)",
   "language": "python",
   "name": "python3"
  },
  "language_info": {
   "codemirror_mode": {
    "name": "ipython",
    "version": 3
   },
   "file_extension": ".py",
   "mimetype": "text/x-python",
   "name": "python",
   "nbconvert_exporter": "python",
   "pygments_lexer": "ipython3",
   "version": "3.11.5"
  },
  "toc": {
   "base_numbering": 1,
   "nav_menu": {},
   "number_sections": true,
   "sideBar": true,
   "skip_h1_title": true,
   "title_cell": "Содержание",
   "title_sidebar": "Contents",
   "toc_cell": true,
   "toc_position": {},
   "toc_section_display": true,
   "toc_window_display": true
  }
 },
 "nbformat": 4,
 "nbformat_minor": 5
}
